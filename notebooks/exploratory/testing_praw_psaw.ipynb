{
 "cells": [
  {
   "cell_type": "code",
   "execution_count": 105,
   "metadata": {},
   "outputs": [],
   "source": [
    "import sys\n",
    "import pathlib\n",
    "src_path = pathlib.Path().absolute().parent.parent / \"src\"\n",
    "data_path = pathlib.Path().absolute().parent.parent / \"data\"\n",
    "sys.path.append(str(src_path))"
   ]
  },
  {
   "cell_type": "code",
   "execution_count": 106,
   "metadata": {},
   "outputs": [],
   "source": [
    "import praw\n",
    "from psaw import PushshiftAPI\n",
    "\n",
    "secrets_path = src_path / 'api_credentials.txt'\n",
    "secrets_txt = open(secrets_path, 'r')\n",
    "\n",
    "my_id = secrets_txt.readline().split('=')[1]\n",
    "my_secret = secrets_txt.readline().split('=')[1]\n",
    "\n",
    "secrets_txt.close()\n",
    "\n",
    "reddit = praw.Reddit(\n",
    "     client_id=my_id,\n",
    "     client_secret=my_secret,\n",
    "     user_agent=\"test_script by u/Mizule_RL\"\n",
    " )\n",
    "\n",
    "s_api = PushshiftAPI(reddit)"
   ]
  },
  {
   "cell_type": "code",
   "execution_count": 41,
   "metadata": {},
   "outputs": [],
   "source": [
    "pushshift_url = \"https://api.pushshift.io/reddit/{}/search?limit=1000&sort=desc&author={}&before=\""
   ]
  },
  {
   "cell_type": "code",
   "execution_count": 80,
   "metadata": {},
   "outputs": [],
   "source": [
    "import requests\n",
    "import pandas as pd\n",
    "import numpy as np\n",
    "import datetime as dt\n",
    "import time"
   ]
  },
  {
   "cell_type": "code",
   "execution_count": 96,
   "metadata": {},
   "outputs": [
    {
     "name": "stdout",
     "output_type": "stream",
     "text": [
      "polling pushshift for 10000 more posts before 1605506400\n",
      "polling pushshift for 9942 more posts before 1605494190\n",
      "polling pushshift for 9868 more posts before 1605483669\n",
      "polling pushshift for 9798 more posts before 1605474400\n",
      "polling pushshift for 9736 more posts before 1605467638\n",
      "polling pushshift for 9675 more posts before 1605458989\n",
      "polling pushshift for 9607 more posts before 1605450977\n",
      "polling pushshift for 9532 more posts before 1605436347\n",
      "polling pushshift for 9470 more posts before 1605418521\n",
      "polling pushshift for 9400 more posts before 1605404941\n",
      "polling pushshift for 9339 more posts before 1605396258\n",
      "polling pushshift for 9271 more posts before 1605386693\n",
      "polling pushshift for 9206 more posts before 1605378135\n",
      "polling pushshift for 9136 more posts before 1605369618\n",
      "polling pushshift for 9073 more posts before 1605359014\n",
      "polling pushshift for 9014 more posts before 1605345430\n",
      "polling pushshift for 8958 more posts before 1605331360\n",
      "polling pushshift for 8913 more posts before 1605320397\n",
      "polling pushshift for 8842 more posts before 1605309020\n",
      "polling pushshift for 8783 more posts before 1605299519\n",
      "polling pushshift for 8729 more posts before 1605291568\n",
      "polling pushshift for 8674 more posts before 1605285193\n",
      "polling pushshift for 8610 more posts before 1605270969\n",
      "polling pushshift for 8554 more posts before 1605259500\n",
      "polling pushshift for 8497 more posts before 1605242468\n",
      "polling pushshift for 8437 more posts before 1605231564\n",
      "polling pushshift for 8375 more posts before 1605221593\n",
      "polling pushshift for 8303 more posts before 1605214399\n",
      "polling pushshift for 8234 more posts before 1605207291\n",
      "polling pushshift for 8173 more posts before 1605200140\n",
      "polling pushshift for 8112 more posts before 1605194054\n",
      "polling pushshift for 8041 more posts before 1605182972\n",
      "polling pushshift for 7981 more posts before 1605166782\n",
      "polling pushshift for 7925 more posts before 1605150870\n",
      "polling pushshift for 7865 more posts before 1605139786\n",
      "polling pushshift for 7797 more posts before 1605131615\n",
      "polling pushshift for 7723 more posts before 1605120908\n",
      "polling pushshift for 7663 more posts before 1605113479\n",
      "polling pushshift for 7599 more posts before 1605104238\n",
      "polling pushshift for 7527 more posts before 1605090884\n",
      "polling pushshift for 7466 more posts before 1605078618\n",
      "polling pushshift for 7417 more posts before 1605068315\n",
      "polling pushshift for 7356 more posts before 1605055230\n",
      "polling pushshift for 7301 more posts before 1605045869\n",
      "polling pushshift for 7232 more posts before 1605036793\n",
      "polling pushshift for 7161 more posts before 1605029867\n",
      "polling pushshift for 7086 more posts before 1605023411\n",
      "polling pushshift for 7024 more posts before 1605015905\n",
      "polling pushshift for 6966 more posts before 1605003410\n",
      "polling pushshift for 6912 more posts before 1604990474\n",
      "polling pushshift for 6852 more posts before 1604978974\n",
      "polling pushshift for 6801 more posts before 1604969274\n",
      "polling pushshift for 6735 more posts before 1604960595\n",
      "polling pushshift for 6677 more posts before 1604953497\n",
      "polling pushshift for 6615 more posts before 1604946522\n",
      "polling pushshift for 6550 more posts before 1604940125\n",
      "polling pushshift for 6478 more posts before 1604932375\n",
      "polling pushshift for 6413 more posts before 1604922828\n",
      "polling pushshift for 6360 more posts before 1604911666\n",
      "polling pushshift for 6304 more posts before 1604898670\n",
      "polling pushshift for 6238 more posts before 1604887127\n",
      "polling pushshift for 6178 more posts before 1604875267\n",
      "polling pushshift for 6111 more posts before 1604867460\n",
      "polling pushshift for 6044 more posts before 1604859661\n",
      "polling pushshift for 5982 more posts before 1604851241\n",
      "polling pushshift for 5919 more posts before 1604841865\n",
      "polling pushshift for 5849 more posts before 1604828494\n",
      "polling pushshift for 5792 more posts before 1604814598\n",
      "polling pushshift for 5724 more posts before 1604801501\n",
      "polling pushshift for 5664 more posts before 1604790378\n",
      "polling pushshift for 5602 more posts before 1604782889\n",
      "polling pushshift for 5536 more posts before 1604775286\n",
      "polling pushshift for 5468 more posts before 1604763324\n",
      "polling pushshift for 5397 more posts before 1604754202\n",
      "polling pushshift for 5334 more posts before 1604740870\n",
      "polling pushshift for 5273 more posts before 1604723372\n",
      "polling pushshift for 5213 more posts before 1604710918\n",
      "polling pushshift for 5143 more posts before 1604702308\n",
      "polling pushshift for 5081 more posts before 1604695143\n",
      "polling pushshift for 5015 more posts before 1604689500\n",
      "polling pushshift for 4952 more posts before 1604533102\n",
      "polling pushshift for 4902 more posts before 1604523229\n",
      "polling pushshift for 4834 more posts before 1604515350\n",
      "polling pushshift for 4774 more posts before 1604505598\n",
      "polling pushshift for 4704 more posts before 1604497099\n",
      "polling pushshift for 4642 more posts before 1604483223\n",
      "polling pushshift for 4585 more posts before 1604465841\n",
      "polling pushshift for 4525 more posts before 1604452359\n",
      "polling pushshift for 4467 more posts before 1604441904\n",
      "polling pushshift for 4398 more posts before 1604434792\n",
      "polling pushshift for 4325 more posts before 1604426151\n",
      "polling pushshift for 4267 more posts before 1604419554\n",
      "polling pushshift for 4196 more posts before 1604411590\n",
      "polling pushshift for 4137 more posts before 1604400120\n",
      "polling pushshift for 4084 more posts before 1604385791\n",
      "polling pushshift for 4016 more posts before 1604373879\n",
      "polling pushshift for 3964 more posts before 1604362928\n",
      "polling pushshift for 3907 more posts before 1604354592\n",
      "polling pushshift for 3845 more posts before 1604347977\n",
      "polling pushshift for 3788 more posts before 1604339149\n",
      "polling pushshift for 3718 more posts before 1604331487\n",
      "polling pushshift for 3665 more posts before 1604323286\n",
      "polling pushshift for 3600 more posts before 1604311073\n",
      "polling pushshift for 3533 more posts before 1604296868\n",
      "polling pushshift for 3483 more posts before 1604282396\n",
      "polling pushshift for 3423 more posts before 1604271919\n",
      "polling pushshift for 3351 more posts before 1604261411\n",
      "polling pushshift for 3285 more posts before 1604251318\n",
      "polling pushshift for 3216 more posts before 1604242835\n",
      "polling pushshift for 3143 more posts before 1604230791\n",
      "polling pushshift for 3077 more posts before 1604215128\n",
      "polling pushshift for 3010 more posts before 1604198897\n",
      "polling pushshift for 2949 more posts before 1604187750\n",
      "polling pushshift for 2877 more posts before 1604176612\n",
      "polling pushshift for 2813 more posts before 1604169384\n",
      "polling pushshift for 2743 more posts before 1604164088\n",
      "polling pushshift for 2673 more posts before 1604156458\n",
      "polling pushshift for 2602 more posts before 1604148529\n",
      "polling pushshift for 2533 more posts before 1604134738\n",
      "polling pushshift for 2474 more posts before 1604116292\n",
      "polling pushshift for 2412 more posts before 1604106770\n",
      "polling pushshift for 2345 more posts before 1604096365\n",
      "polling pushshift for 2288 more posts before 1604088763\n",
      "polling pushshift for 2229 more posts before 1604082450\n",
      "polling pushshift for 2163 more posts before 1604074305\n",
      "polling pushshift for 2094 more posts before 1604065756\n",
      "polling pushshift for 2031 more posts before 1604050912\n",
      "polling pushshift for 1969 more posts before 1604029739\n",
      "polling pushshift for 1907 more posts before 1604019418\n",
      "polling pushshift for 1849 more posts before 1604009649\n",
      "polling pushshift for 1795 more posts before 1604002761\n",
      "polling pushshift for 1735 more posts before 1603996134\n",
      "polling pushshift for 1667 more posts before 1603989118\n",
      "polling pushshift for 1609 more posts before 1603980703\n",
      "polling pushshift for 1542 more posts before 1603971246\n",
      "polling pushshift for 1479 more posts before 1603950745\n",
      "polling pushshift for 1418 more posts before 1603934614\n",
      "polling pushshift for 1354 more posts before 1603927026\n",
      "polling pushshift for 1283 more posts before 1603920004\n",
      "polling pushshift for 1214 more posts before 1603914698\n",
      "polling pushshift for 1142 more posts before 1603906625\n",
      "polling pushshift for 1077 more posts before 1603899102\n",
      "polling pushshift for 1022 more posts before 1603890844\n",
      "polling pushshift for 956 more posts before 1603869412\n",
      "polling pushshift for 897 more posts before 1603853502\n",
      "polling pushshift for 837 more posts before 1603842139\n",
      "polling pushshift for 777 more posts before 1603833962\n"
     ]
    },
    {
     "name": "stdout",
     "output_type": "stream",
     "text": [
      "polling pushshift for 712 more posts before 1603825509\n",
      "polling pushshift for 648 more posts before 1603817430\n",
      "polling pushshift for 585 more posts before 1603809450\n",
      "polling pushshift for 515 more posts before 1603798745\n",
      "polling pushshift for 452 more posts before 1603781240\n",
      "polling pushshift for 396 more posts before 1603769111\n",
      "polling pushshift for 339 more posts before 1603760427\n",
      "polling pushshift for 291 more posts before 1603750853\n",
      "polling pushshift for 226 more posts before 1603743085\n",
      "polling pushshift for 165 more posts before 1603733557\n",
      "polling pushshift for 110 more posts before 1603725542\n",
      "polling pushshift for 49 more posts before 1603715994\n",
      "polling pushshift for 3 more posts before 1603702773\n"
     ]
    },
    {
     "data": {
      "text/plain": [
       "10051"
      ]
     },
     "execution_count": 96,
     "metadata": {},
     "output_type": "execute_result"
    }
   ],
   "source": [
    "start_epoch = int(dt.datetime(2020, 11, 16).timestamp())\n",
    "data_size = 10000\n",
    "\n",
    "collected_posts = []\n",
    "while len(collected_posts) < data_size:\n",
    "    print(f'polling pushshift for {data_size - len(collected_posts)} more posts before {start_epoch}')\n",
    "    batch = list(s_api.search_submissions(before=start_epoch, subreddit='Art', limit=1000))\n",
    "    for post in batch:\n",
    "        if len(post.title.split(',')) == 4:\n",
    "            collected_posts.append(post)\n",
    "    start_epoch = int(batch[-1].created_utc)\n",
    "    \n",
    "len(collected_posts)"
   ]
  },
  {
   "cell_type": "code",
   "execution_count": 101,
   "metadata": {},
   "outputs": [],
   "source": [
    "post_dicts = [{'title': post.title, 'medium': (post.title.split(',')[2].lower()), 'url': post.url, 'id': post.id, 'unix_time': int(post.created_utc)} for post in collected_posts]"
   ]
  },
  {
   "cell_type": "code",
   "execution_count": 102,
   "metadata": {},
   "outputs": [],
   "source": [
    "df = pd.DataFrame(post_dicts)"
   ]
  },
  {
   "cell_type": "code",
   "execution_count": 104,
   "metadata": {},
   "outputs": [
    {
     "data": {
      "text/html": [
       "<div>\n",
       "<style scoped>\n",
       "    .dataframe tbody tr th:only-of-type {\n",
       "        vertical-align: middle;\n",
       "    }\n",
       "\n",
       "    .dataframe tbody tr th {\n",
       "        vertical-align: top;\n",
       "    }\n",
       "\n",
       "    .dataframe thead th {\n",
       "        text-align: right;\n",
       "    }\n",
       "</style>\n",
       "<table border=\"1\" class=\"dataframe\">\n",
       "  <thead>\n",
       "    <tr style=\"text-align: right;\">\n",
       "      <th></th>\n",
       "      <th>title</th>\n",
       "      <th>medium</th>\n",
       "      <th>url</th>\n",
       "      <th>id</th>\n",
       "      <th>unix_time</th>\n",
       "    </tr>\n",
       "  </thead>\n",
       "  <tbody>\n",
       "    <tr>\n",
       "      <th>1998</th>\n",
       "      <td>Gray Scale,Acrylics,Me,2020</td>\n",
       "      <td>me</td>\n",
       "      <td>https://i.redd.it/tkznx816xry51.jpg</td>\n",
       "      <td>jsrfx2</td>\n",
       "      <td>1605171400</td>\n",
       "    </tr>\n",
       "    <tr>\n",
       "      <th>4231</th>\n",
       "      <td>2FACE ,Digital,Me,2020</td>\n",
       "      <td>me</td>\n",
       "      <td>https://i.redd.it/w09nu9b83yx51.jpg</td>\n",
       "      <td>jq5o01</td>\n",
       "      <td>1604810387</td>\n",
       "    </tr>\n",
       "    <tr>\n",
       "      <th>4772</th>\n",
       "      <td>Untitled,Digital,Me,2020</td>\n",
       "      <td>me</td>\n",
       "      <td>https://i.redd.it/dujbtqy27qx51.jpg</td>\n",
       "      <td>jpifde</td>\n",
       "      <td>1604714674</td>\n",
       "    </tr>\n",
       "    <tr>\n",
       "      <th>4776</th>\n",
       "      <td>Couple, Digital,Me,2020</td>\n",
       "      <td>me</td>\n",
       "      <td>https://i.redd.it/17f46hnm4qx51.jpg</td>\n",
       "      <td>jpi7qd</td>\n",
       "      <td>1604713845</td>\n",
       "    </tr>\n",
       "    <tr>\n",
       "      <th>5236</th>\n",
       "      <td>Sunflowers,Pope.art,me,2020</td>\n",
       "      <td>me</td>\n",
       "      <td>https://i.redd.it/plg5ars4u8x51.jpg</td>\n",
       "      <td>jnyw20</td>\n",
       "      <td>1604504517</td>\n",
       "    </tr>\n",
       "    <tr>\n",
       "      <th>5411</th>\n",
       "      <td>Eyes,graphite pencil,me,2020</td>\n",
       "      <td>me</td>\n",
       "      <td>https://i.redd.it/7zohjhxaq5x51.jpg</td>\n",
       "      <td>jnqs3i</td>\n",
       "      <td>1604466895</td>\n",
       "    </tr>\n",
       "    <tr>\n",
       "      <th>6977</th>\n",
       "      <td>Save the Humans, Acrylic with photoshop edits,...</td>\n",
       "      <td>me</td>\n",
       "      <td>https://i.redd.it/b0drcgs5pjw51.jpg</td>\n",
       "      <td>jlvkhs</td>\n",
       "      <td>1604200219</td>\n",
       "    </tr>\n",
       "    <tr>\n",
       "      <th>7432</th>\n",
       "      <td>How to make paper diya,paper diya,me,2020</td>\n",
       "      <td>me</td>\n",
       "      <td>https://youtu.be/Aizvht8x9Ho</td>\n",
       "      <td>jlg8wg</td>\n",
       "      <td>1604140746</td>\n",
       "    </tr>\n",
       "    <tr>\n",
       "      <th>7873</th>\n",
       "      <td>Green,digital,me,2020</td>\n",
       "      <td>me</td>\n",
       "      <td>https://i.redd.it/t4fyazusv8w51.jpg</td>\n",
       "      <td>jky3rf</td>\n",
       "      <td>1604069218</td>\n",
       "    </tr>\n",
       "    <tr>\n",
       "      <th>8002</th>\n",
       "      <td>Save the Humans,Acrylic with Photoshop editing...</td>\n",
       "      <td>me</td>\n",
       "      <td>https://i.redd.it/e9bpcpri66w51.jpg</td>\n",
       "      <td>jkr6xx</td>\n",
       "      <td>1604036572</td>\n",
       "    </tr>\n",
       "    <tr>\n",
       "      <th>8569</th>\n",
       "      <td>“A New Dimension”, 11x14in acrylic on canvas,m...</td>\n",
       "      <td>me</td>\n",
       "      <td>https://i.redd.it/d7nz650lxxv51.jpg</td>\n",
       "      <td>jk1efy</td>\n",
       "      <td>1603936634</td>\n",
       "    </tr>\n",
       "    <tr>\n",
       "      <th>8763</th>\n",
       "      <td>FLOWER VASE ,Oil painting,me,2020</td>\n",
       "      <td>me</td>\n",
       "      <td>https://youtu.be/MkRmH4hvSuY</td>\n",
       "      <td>jjvqhv</td>\n",
       "      <td>1603917075</td>\n",
       "    </tr>\n",
       "  </tbody>\n",
       "</table>\n",
       "</div>"
      ],
      "text/plain": [
       "                                                  title medium  \\\n",
       "1998                        Gray Scale,Acrylics,Me,2020     me   \n",
       "4231                             2FACE ,Digital,Me,2020     me   \n",
       "4772                           Untitled,Digital,Me,2020     me   \n",
       "4776                            Couple, Digital,Me,2020     me   \n",
       "5236                        Sunflowers,Pope.art,me,2020     me   \n",
       "5411                       Eyes,graphite pencil,me,2020     me   \n",
       "6977  Save the Humans, Acrylic with photoshop edits,...     me   \n",
       "7432          How to make paper diya,paper diya,me,2020     me   \n",
       "7873                              Green,digital,me,2020     me   \n",
       "8002  Save the Humans,Acrylic with Photoshop editing...     me   \n",
       "8569  “A New Dimension”, 11x14in acrylic on canvas,m...     me   \n",
       "8763                  FLOWER VASE ,Oil painting,me,2020     me   \n",
       "\n",
       "                                      url      id   unix_time  \n",
       "1998  https://i.redd.it/tkznx816xry51.jpg  jsrfx2  1605171400  \n",
       "4231  https://i.redd.it/w09nu9b83yx51.jpg  jq5o01  1604810387  \n",
       "4772  https://i.redd.it/dujbtqy27qx51.jpg  jpifde  1604714674  \n",
       "4776  https://i.redd.it/17f46hnm4qx51.jpg  jpi7qd  1604713845  \n",
       "5236  https://i.redd.it/plg5ars4u8x51.jpg  jnyw20  1604504517  \n",
       "5411  https://i.redd.it/7zohjhxaq5x51.jpg  jnqs3i  1604466895  \n",
       "6977  https://i.redd.it/b0drcgs5pjw51.jpg  jlvkhs  1604200219  \n",
       "7432         https://youtu.be/Aizvht8x9Ho  jlg8wg  1604140746  \n",
       "7873  https://i.redd.it/t4fyazusv8w51.jpg  jky3rf  1604069218  \n",
       "8002  https://i.redd.it/e9bpcpri66w51.jpg  jkr6xx  1604036572  \n",
       "8569  https://i.redd.it/d7nz650lxxv51.jpg  jk1efy  1603936634  \n",
       "8763         https://youtu.be/MkRmH4hvSuY  jjvqhv  1603917075  "
      ]
     },
     "execution_count": 104,
     "metadata": {},
     "output_type": "execute_result"
    }
   ],
   "source": [
    "df[df.medium == 'me']"
   ]
  },
  {
   "cell_type": "code",
   "execution_count": 55,
   "metadata": {},
   "outputs": [
    {
     "data": {
      "text/plain": [
       "1546236000"
      ]
     },
     "execution_count": 55,
     "metadata": {},
     "output_type": "execute_result"
    }
   ],
   "source": [
    "int(dt.datetime(2018, 12, 31).timestamp())"
   ]
  },
  {
   "cell_type": "code",
   "execution_count": 73,
   "metadata": {},
   "outputs": [
    {
     "data": {
      "text/plain": [
       "['abcd']"
      ]
     },
     "execution_count": 73,
     "metadata": {},
     "output_type": "execute_result"
    }
   ],
   "source": [
    "y = 'abcd'\n",
    "z = y.split(',')\n",
    "z"
   ]
  },
  {
   "cell_type": "code",
   "execution_count": 74,
   "metadata": {},
   "outputs": [
    {
     "name": "stdout",
     "output_type": "stream",
     "text": [
      "Rule 1 - Title format\n",
      "Artwork\n",
      "Artwork\n",
      "Rule 1\n",
      "Artwork\n",
      "Discussion\n",
      "Artwork\n",
      "Artwork\n",
      "Artwork\n",
      "Artwork\n"
     ]
    }
   ],
   "source": [
    "for x in testing_psaw:\n",
    "    print(x.link_flair_text)"
   ]
  },
  {
   "cell_type": "code",
   "execution_count": 58,
   "metadata": {},
   "outputs": [
    {
     "data": {
      "text/plain": [
       "1546233444.0"
      ]
     },
     "execution_count": 58,
     "metadata": {},
     "output_type": "execute_result"
    }
   ],
   "source": [
    "testing_psaw[-1].created_utc"
   ]
  },
  {
   "cell_type": "code",
   "execution_count": 12,
   "metadata": {},
   "outputs": [
    {
     "name": "stdout",
     "output_type": "stream",
     "text": [
      "<class 'str'>\n",
      "<class 'str'>\n",
      "<class 'str'>\n",
      "<class 'str'>\n",
      "<class 'str'>\n",
      "<class 'str'>\n",
      "<class 'str'>\n",
      "<class 'str'>\n",
      "<class 'str'>\n",
      "<class 'str'>\n"
     ]
    }
   ],
   "source": [
    "for submission in reddit.subreddit(\"Art\").hot(limit=10):\n",
    "    print(type(submission.title))"
   ]
  },
  {
   "cell_type": "code",
   "execution_count": 60,
   "metadata": {},
   "outputs": [],
   "source": [
    "for submission in reddit.subreddit(\"Art\").hot(limit=10):\n",
    "    response = requests.get(submission.url)\n",
    "\n",
    "    file = open(submission.id, \"wb\")\n",
    "    file.write(response.content)\n",
    "    file.close()"
   ]
  },
  {
   "cell_type": "code",
   "execution_count": null,
   "metadata": {},
   "outputs": [],
   "source": []
  }
 ],
 "metadata": {
  "kernelspec": {
   "display_name": "Python [conda env:capstone-env] *",
   "language": "python",
   "name": "conda-env-capstone-env-py"
  },
  "language_info": {
   "codemirror_mode": {
    "name": "ipython",
    "version": 3
   },
   "file_extension": ".py",
   "mimetype": "text/x-python",
   "name": "python",
   "nbconvert_exporter": "python",
   "pygments_lexer": "ipython3",
   "version": "3.6.9"
  }
 },
 "nbformat": 4,
 "nbformat_minor": 4
}
