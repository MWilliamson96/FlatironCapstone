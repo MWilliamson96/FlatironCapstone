{
 "cells": [
  {
   "cell_type": "code",
   "execution_count": 1,
   "metadata": {},
   "outputs": [],
   "source": [
    "# creating paths to src and data folders in the repo\n",
    "import sys\n",
    "import pathlib\n",
    "src_path = pathlib.Path().absolute().parent.parent / \"src\"\n",
    "data_path = pathlib.Path().absolute().parent.parent / \"data\"\n",
    "dump_path = data_path / 'initial_dump'\n",
    "\n",
    "# add src path to sys.path so it is searched in import statements\n",
    "sys.path.append(str(src_path))\n",
    "\n",
    "# basic imports for data manipulation and \n",
    "import pandas as pd\n",
    "import numpy as np\n",
    "import matplotlib.pyplot as plt\n",
    "\n",
    "# import modeling packages\n",
    "import tensorflow as tf\n",
    "from tensorflow.keras import layers, models\n",
    "from tensorflow.keras.preprocessing.image import ImageDataGenerator"
   ]
  },
  {
   "cell_type": "code",
   "execution_count": 2,
   "metadata": {},
   "outputs": [],
   "source": [
    "train_path = data_path / 'fsm_tts/train'\n",
    "test_path = data_path / 'fsm_tts/test'"
   ]
  },
  {
   "cell_type": "code",
   "execution_count": 8,
   "metadata": {},
   "outputs": [
    {
     "name": "stdout",
     "output_type": "stream",
     "text": [
      "Found 9941 images belonging to 7 classes.\n",
      "Found 90 images belonging to 7 classes.\n"
     ]
    }
   ],
   "source": [
    "train_generator = ImageDataGenerator().flow_from_directory(str(train_path),\n",
    "                                                           target_size=(256, 256),\n",
    "                                                           batch_size=32,\n",
    "                                                           class_mode='categorical')\n",
    "test_generator = ImageDataGenerator().flow_from_directory(str(test_path),\n",
    "                                                          target_size=(256, 256),\n",
    "                                                          batch_size=32,\n",
    "                                                          class_mode='categorical')"
   ]
  },
  {
   "cell_type": "code",
   "execution_count": 9,
   "metadata": {},
   "outputs": [],
   "source": [
    "model = models.Sequential()\n",
    "model.add(layers.Conv2D(32, (3, 3), activation='relu', input_shape=(256, 256, 3)))\n",
    "model.add(layers.MaxPooling2D((2, 2)))\n",
    "model.add(layers.Conv2D(64, (3, 3), activation='relu'))\n",
    "model.add(layers.MaxPooling2D((2, 2)))\n",
    "model.add(layers.Conv2D(64, (3, 3), activation='relu'))\n",
    "model.add(layers.Flatten())\n",
    "model.add(layers.Dense(64, activation='relu'))\n",
    "model.add(layers.Dense(7, activation='softmax'))\n",
    "model.compile(optimizer='adam', loss='categorical_crossentropy', metrics=['accuracy'])"
   ]
  },
  {
   "cell_type": "code",
   "execution_count": null,
   "metadata": {},
   "outputs": [
    {
     "name": "stdout",
     "output_type": "stream",
     "text": [
      "Epoch 1/10\n",
      " 76/310 [======>.......................] - ETA: 13:48 - loss: 65.4417 - accuracy: 0.4341"
     ]
    },
    {
     "name": "stderr",
     "output_type": "stream",
     "text": [
      "/opt/anaconda3/envs/capstone-env/lib/python3.6/site-packages/PIL/Image.py:2837: DecompressionBombWarning: Image size (145130209 pixels) exceeds limit of 89478485 pixels, could be decompression bomb DOS attack.\n",
      "  DecompressionBombWarning,\n"
     ]
    },
    {
     "name": "stdout",
     "output_type": "stream",
     "text": [
      " 80/310 [======>.......................] - ETA: 13:41 - loss: 62.2417 - accuracy: 0.4390"
     ]
    },
    {
     "name": "stderr",
     "output_type": "stream",
     "text": [
      "/opt/anaconda3/envs/capstone-env/lib/python3.6/site-packages/PIL/Image.py:2837: DecompressionBombWarning: Image size (114336000 pixels) exceeds limit of 89478485 pixels, could be decompression bomb DOS attack.\n",
      "  DecompressionBombWarning,\n"
     ]
    },
    {
     "name": "stdout",
     "output_type": "stream",
     "text": [
      " 93/310 [========>.....................] - ETA: 12:58 - loss: 53.7456 - accuracy: 0.4432"
     ]
    },
    {
     "name": "stderr",
     "output_type": "stream",
     "text": [
      "/opt/anaconda3/envs/capstone-env/lib/python3.6/site-packages/PIL/Image.py:2837: DecompressionBombWarning: Image size (154737000 pixels) exceeds limit of 89478485 pixels, could be decompression bomb DOS attack.\n",
      "  DecompressionBombWarning,\n"
     ]
    },
    {
     "name": "stdout",
     "output_type": "stream",
     "text": [
      " 97/310 [========>.....................] - ETA: 12:55 - loss: 51.5878 - accuracy: 0.4446"
     ]
    },
    {
     "name": "stderr",
     "output_type": "stream",
     "text": [
      "/opt/anaconda3/envs/capstone-env/lib/python3.6/site-packages/PIL/Image.py:2837: DecompressionBombWarning: Image size (89505558 pixels) exceeds limit of 89478485 pixels, could be decompression bomb DOS attack.\n",
      "  DecompressionBombWarning,\n"
     ]
    },
    {
     "name": "stdout",
     "output_type": "stream",
     "text": [
      "116/310 [==========>...................] - ETA: 11:50 - loss: 43.3914 - accuracy: 0.4569"
     ]
    },
    {
     "name": "stderr",
     "output_type": "stream",
     "text": [
      "/opt/anaconda3/envs/capstone-env/lib/python3.6/site-packages/PIL/Image.py:2837: DecompressionBombWarning: Image size (108009000 pixels) exceeds limit of 89478485 pixels, could be decompression bomb DOS attack.\n",
      "  DecompressionBombWarning,\n"
     ]
    },
    {
     "name": "stdout",
     "output_type": "stream",
     "text": [
      "149/310 [=============>................] - ETA: 9:36 - loss: 34.1148 - accuracy: 0.4688"
     ]
    },
    {
     "name": "stderr",
     "output_type": "stream",
     "text": [
      "/opt/anaconda3/envs/capstone-env/lib/python3.6/site-packages/PIL/Image.py:952: UserWarning: Palette images with Transparency expressed in bytes should be converted to RGBA images\n",
      "  \"Palette images with Transparency expressed in bytes should be \"\n"
     ]
    },
    {
     "name": "stdout",
     "output_type": "stream",
     "text": [
      "186/310 [=================>............] - ETA: 7:23 - loss: 27.6245 - accuracy: 0.4769"
     ]
    },
    {
     "name": "stderr",
     "output_type": "stream",
     "text": [
      "/opt/anaconda3/envs/capstone-env/lib/python3.6/site-packages/PIL/Image.py:2837: DecompressionBombWarning: Image size (112666125 pixels) exceeds limit of 89478485 pixels, could be decompression bomb DOS attack.\n",
      "  DecompressionBombWarning,\n"
     ]
    },
    {
     "name": "stdout",
     "output_type": "stream",
     "text": [
      "223/310 [====================>.........] - ETA: 5:08 - loss: 23.2796 - accuracy: 0.4824"
     ]
    },
    {
     "name": "stderr",
     "output_type": "stream",
     "text": [
      "/opt/anaconda3/envs/capstone-env/lib/python3.6/site-packages/PIL/Image.py:2837: DecompressionBombWarning: Image size (94224320 pixels) exceeds limit of 89478485 pixels, could be decompression bomb DOS attack.\n",
      "  DecompressionBombWarning,\n"
     ]
    },
    {
     "name": "stdout",
     "output_type": "stream",
     "text": [
      "235/310 [=====================>........] - ETA: 4:26 - loss: 22.1614 - accuracy: 0.4857"
     ]
    }
   ],
   "source": [
    "model.fit(\n",
    "        train_generator,\n",
    "        steps_per_epoch=310,\n",
    "        epochs=10,\n",
    "        validation_data=test_generator,\n",
    "        validation_steps=3)"
   ]
  },
  {
   "cell_type": "code",
   "execution_count": null,
   "metadata": {},
   "outputs": [],
   "source": []
  }
 ],
 "metadata": {
  "kernelspec": {
   "display_name": "Python [conda env:capstone-env] *",
   "language": "python",
   "name": "conda-env-capstone-env-py"
  },
  "language_info": {
   "codemirror_mode": {
    "name": "ipython",
    "version": 3
   },
   "file_extension": ".py",
   "mimetype": "text/x-python",
   "name": "python",
   "nbconvert_exporter": "python",
   "pygments_lexer": "ipython3",
   "version": "3.6.9"
  }
 },
 "nbformat": 4,
 "nbformat_minor": 4
}
