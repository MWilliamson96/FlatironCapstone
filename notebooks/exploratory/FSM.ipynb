{
 "cells": [
  {
   "cell_type": "code",
   "execution_count": null,
   "metadata": {},
   "outputs": [],
   "source": [
    "# creating paths to src and data folders in the repo\n",
    "import sys\n",
    "import pathlib\n",
    "src_path = pathlib.Path().absolute().parent.parent / \"src\"\n",
    "data_path = pathlib.Path().absolute().parent.parent / \"data\"\n",
    "dump_path = data_path / 'initial_dump'\n",
    "\n",
    "# add src path to sys.path so it is searched in import statements\n",
    "sys.path.append(str(src_path))\n",
    "\n",
    "# basic imports for data manipulation and \n",
    "import pandas as pd\n",
    "import numpy as np\n",
    "import matplotlib.pyplot as plt\n",
    "\n",
    "# import modeling packages\n",
    "import tensorflow as tf\n",
    "from tensorflow.keras import layers, models"
   ]
  }
 ],
 "metadata": {
  "kernelspec": {
   "display_name": "Python [conda env:capstone-env] *",
   "language": "python",
   "name": "conda-env-capstone-env-py"
  },
  "language_info": {
   "codemirror_mode": {
    "name": "ipython",
    "version": 3
   },
   "file_extension": ".py",
   "mimetype": "text/x-python",
   "name": "python",
   "nbconvert_exporter": "python",
   "pygments_lexer": "ipython3",
   "version": "3.6.9"
  }
 },
 "nbformat": 4,
 "nbformat_minor": 4
}
