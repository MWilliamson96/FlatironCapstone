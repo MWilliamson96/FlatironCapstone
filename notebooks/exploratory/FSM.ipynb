{
 "cells": [
  {
   "cell_type": "code",
   "execution_count": 1,
   "metadata": {},
   "outputs": [],
   "source": [
    "# creating paths to src and data folders in the repo\n",
    "import sys\n",
    "import pathlib\n",
    "src_path = pathlib.Path().absolute().parent.parent / \"src\"\n",
    "data_path = pathlib.Path().absolute().parent.parent / \"data\"\n",
    "dump_path = data_path / 'initial_dump'\n",
    "\n",
    "# add src path to sys.path so it is searched in import statements\n",
    "sys.path.append(str(src_path))\n",
    "\n",
    "# basic imports for data manipulation and \n",
    "import pandas as pd\n",
    "import numpy as np\n",
    "import matplotlib.pyplot as plt\n",
    "\n",
    "# import modeling packages\n",
    "import tensorflow as tf\n",
    "from tensorflow.keras import layers, models\n",
    "from tensorflow.keras.preprocessing.image import ImageDataGenerator"
   ]
  },
  {
   "cell_type": "code",
   "execution_count": 2,
   "metadata": {},
   "outputs": [],
   "source": [
    "train_path = data_path / 'fsm_tts/train'\n",
    "test_path = data_path / 'fsm_tts/test'"
   ]
  },
  {
   "cell_type": "code",
   "execution_count": 8,
   "metadata": {},
   "outputs": [
    {
     "name": "stdout",
     "output_type": "stream",
     "text": [
      "Found 9941 images belonging to 7 classes.\n",
      "Found 90 images belonging to 7 classes.\n"
     ]
    }
   ],
   "source": [
    "train_generator = ImageDataGenerator().flow_from_directory(str(train_path),\n",
    "                                                           target_size=(256, 256),\n",
    "                                                           batch_size=32,\n",
    "                                                           class_mode='categorical')\n",
    "test_generator = ImageDataGenerator().flow_from_directory(str(test_path),\n",
    "                                                          target_size=(256, 256),\n",
    "                                                          batch_size=32,\n",
    "                                                          class_mode='categorical')"
   ]
  },
  {
   "cell_type": "code",
   "execution_count": 9,
   "metadata": {},
   "outputs": [],
   "source": [
    "model = models.Sequential()\n",
    "model.add(layers.Conv2D(32, (3, 3), activation='relu', input_shape=(256, 256, 3)))\n",
    "model.add(layers.MaxPooling2D((2, 2)))\n",
    "model.add(layers.Conv2D(64, (3, 3), activation='relu'))\n",
    "model.add(layers.MaxPooling2D((2, 2)))\n",
    "model.add(layers.Conv2D(64, (3, 3), activation='relu'))\n",
    "model.add(layers.Flatten())\n",
    "model.add(layers.Dense(64, activation='relu'))\n",
    "model.add(layers.Dense(7, activation='softmax'))\n",
    "model.compile(optimizer='adam', loss='categorical_crossentropy', metrics=['accuracy'])"
   ]
  },
  {
   "cell_type": "code",
   "execution_count": 10,
   "metadata": {},
   "outputs": [
    {
     "name": "stdout",
     "output_type": "stream",
     "text": [
      "Epoch 1/10\n",
      " 76/310 [======>.......................] - ETA: 13:48 - loss: 65.4417 - accuracy: 0.4341"
     ]
    },
    {
     "name": "stderr",
     "output_type": "stream",
     "text": [
      "/opt/anaconda3/envs/capstone-env/lib/python3.6/site-packages/PIL/Image.py:2837: DecompressionBombWarning: Image size (145130209 pixels) exceeds limit of 89478485 pixels, could be decompression bomb DOS attack.\n",
      "  DecompressionBombWarning,\n"
     ]
    },
    {
     "name": "stdout",
     "output_type": "stream",
     "text": [
      " 80/310 [======>.......................] - ETA: 13:41 - loss: 62.2417 - accuracy: 0.4390"
     ]
    },
    {
     "name": "stderr",
     "output_type": "stream",
     "text": [
      "/opt/anaconda3/envs/capstone-env/lib/python3.6/site-packages/PIL/Image.py:2837: DecompressionBombWarning: Image size (114336000 pixels) exceeds limit of 89478485 pixels, could be decompression bomb DOS attack.\n",
      "  DecompressionBombWarning,\n"
     ]
    },
    {
     "name": "stdout",
     "output_type": "stream",
     "text": [
      " 93/310 [========>.....................] - ETA: 12:58 - loss: 53.7456 - accuracy: 0.4432"
     ]
    },
    {
     "name": "stderr",
     "output_type": "stream",
     "text": [
      "/opt/anaconda3/envs/capstone-env/lib/python3.6/site-packages/PIL/Image.py:2837: DecompressionBombWarning: Image size (154737000 pixels) exceeds limit of 89478485 pixels, could be decompression bomb DOS attack.\n",
      "  DecompressionBombWarning,\n"
     ]
    },
    {
     "name": "stdout",
     "output_type": "stream",
     "text": [
      " 97/310 [========>.....................] - ETA: 12:55 - loss: 51.5878 - accuracy: 0.4446"
     ]
    },
    {
     "name": "stderr",
     "output_type": "stream",
     "text": [
      "/opt/anaconda3/envs/capstone-env/lib/python3.6/site-packages/PIL/Image.py:2837: DecompressionBombWarning: Image size (89505558 pixels) exceeds limit of 89478485 pixels, could be decompression bomb DOS attack.\n",
      "  DecompressionBombWarning,\n"
     ]
    },
    {
     "name": "stdout",
     "output_type": "stream",
     "text": [
      "116/310 [==========>...................] - ETA: 11:50 - loss: 43.3914 - accuracy: 0.4569"
     ]
    },
    {
     "name": "stderr",
     "output_type": "stream",
     "text": [
      "/opt/anaconda3/envs/capstone-env/lib/python3.6/site-packages/PIL/Image.py:2837: DecompressionBombWarning: Image size (108009000 pixels) exceeds limit of 89478485 pixels, could be decompression bomb DOS attack.\n",
      "  DecompressionBombWarning,\n"
     ]
    },
    {
     "name": "stdout",
     "output_type": "stream",
     "text": [
      "149/310 [=============>................] - ETA: 9:36 - loss: 34.1148 - accuracy: 0.4688"
     ]
    },
    {
     "name": "stderr",
     "output_type": "stream",
     "text": [
      "/opt/anaconda3/envs/capstone-env/lib/python3.6/site-packages/PIL/Image.py:952: UserWarning: Palette images with Transparency expressed in bytes should be converted to RGBA images\n",
      "  \"Palette images with Transparency expressed in bytes should be \"\n"
     ]
    },
    {
     "name": "stdout",
     "output_type": "stream",
     "text": [
      "186/310 [=================>............] - ETA: 7:23 - loss: 27.6245 - accuracy: 0.4769"
     ]
    },
    {
     "name": "stderr",
     "output_type": "stream",
     "text": [
      "/opt/anaconda3/envs/capstone-env/lib/python3.6/site-packages/PIL/Image.py:2837: DecompressionBombWarning: Image size (112666125 pixels) exceeds limit of 89478485 pixels, could be decompression bomb DOS attack.\n",
      "  DecompressionBombWarning,\n"
     ]
    },
    {
     "name": "stdout",
     "output_type": "stream",
     "text": [
      "223/310 [====================>.........] - ETA: 5:08 - loss: 23.2796 - accuracy: 0.4824"
     ]
    },
    {
     "name": "stderr",
     "output_type": "stream",
     "text": [
      "/opt/anaconda3/envs/capstone-env/lib/python3.6/site-packages/PIL/Image.py:2837: DecompressionBombWarning: Image size (94224320 pixels) exceeds limit of 89478485 pixels, could be decompression bomb DOS attack.\n",
      "  DecompressionBombWarning,\n"
     ]
    },
    {
     "name": "stdout",
     "output_type": "stream",
     "text": [
      "300/310 [============================>.] - ETA: 35s - loss: 17.6599 - accuracy: 0.4914"
     ]
    },
    {
     "name": "stderr",
     "output_type": "stream",
     "text": [
      "/opt/anaconda3/envs/capstone-env/lib/python3.6/site-packages/PIL/Image.py:2837: DecompressionBombWarning: Image size (108753612 pixels) exceeds limit of 89478485 pixels, could be decompression bomb DOS attack.\n",
      "  DecompressionBombWarning,\n"
     ]
    },
    {
     "name": "stdout",
     "output_type": "stream",
     "text": [
      "310/310 [==============================] - 1105s 4s/step - loss: 17.1365 - accuracy: 0.4913 - val_loss: 2.2232 - val_accuracy: 0.1778\n",
      "Epoch 2/10\n",
      "310/310 [==============================] - 1071s 3s/step - loss: 1.3182 - accuracy: 0.5081 - val_loss: 2.6491 - val_accuracy: 0.1778\n",
      "Epoch 3/10\n",
      "310/310 [==============================] - 1123s 4s/step - loss: 1.2827 - accuracy: 0.5130 - val_loss: 2.7201 - val_accuracy: 0.1778\n",
      "Epoch 4/10\n",
      "310/310 [==============================] - 4482s 14s/step - loss: 1.2651 - accuracy: 0.5143 - val_loss: 2.9231 - val_accuracy: 0.1778\n",
      "Epoch 5/10\n",
      "310/310 [==============================] - 1059s 3s/step - loss: 1.2411 - accuracy: 0.5209 - val_loss: 2.9176 - val_accuracy: 0.1778\n",
      "Epoch 6/10\n",
      "310/310 [==============================] - 1061s 3s/step - loss: 1.2031 - accuracy: 0.5354 - val_loss: 3.2112 - val_accuracy: 0.1778\n",
      "Epoch 7/10\n",
      "310/310 [==============================] - 1060s 3s/step - loss: 1.1685 - accuracy: 0.5479 - val_loss: 3.6747 - val_accuracy: 0.1778\n",
      "Epoch 8/10\n",
      "310/310 [==============================] - 1066s 3s/step - loss: 1.1187 - accuracy: 0.5634 - val_loss: 4.6808 - val_accuracy: 0.1556\n",
      "Epoch 9/10\n",
      "310/310 [==============================] - 4157s 13s/step - loss: 1.0939 - accuracy: 0.5738 - val_loss: 5.9277 - val_accuracy: 0.1667\n",
      "Epoch 10/10\n",
      "310/310 [==============================] - 26464s 85s/step - loss: 1.0481 - accuracy: 0.5874 - val_loss: 4.8667 - val_accuracy: 0.1556\n"
     ]
    },
    {
     "data": {
      "text/plain": [
       "<tensorflow.python.keras.callbacks.History at 0x7fa7bb726898>"
      ]
     },
     "execution_count": 10,
     "metadata": {},
     "output_type": "execute_result"
    }
   ],
   "source": [
    "model.fit(\n",
    "        train_generator,\n",
    "        steps_per_epoch=310,\n",
    "        epochs=10,\n",
    "        validation_data=test_generator,\n",
    "        validation_steps=3)"
   ]
  },
  {
   "cell_type": "code",
   "execution_count": 2,
   "metadata": {},
   "outputs": [
    {
     "ename": "NameError",
     "evalue": "name 'test_generator' is not defined",
     "output_type": "error",
     "traceback": [
      "\u001b[0;31m---------------------------------------------------------------------------\u001b[0m",
      "\u001b[0;31mNameError\u001b[0m                                 Traceback (most recent call last)",
      "\u001b[0;32m<ipython-input-2-2393df4dea41>\u001b[0m in \u001b[0;36m<module>\u001b[0;34m()\u001b[0m\n\u001b[1;32m      1\u001b[0m \u001b[0;32mfrom\u001b[0m \u001b[0msklearn\u001b[0m\u001b[0;34m.\u001b[0m\u001b[0mmetrics\u001b[0m \u001b[0;32mimport\u001b[0m \u001b[0mconfusion_matrix\u001b[0m\u001b[0;34m\u001b[0m\u001b[0;34m\u001b[0m\u001b[0m\n\u001b[0;32m----> 2\u001b[0;31m \u001b[0mconf_mat\u001b[0m \u001b[0;34m=\u001b[0m \u001b[0mconfusion_matrix\u001b[0m\u001b[0;34m(\u001b[0m\u001b[0mtest_generator\u001b[0m\u001b[0;34m.\u001b[0m\u001b[0mclasses\u001b[0m\u001b[0;34m,\u001b[0m \u001b[0mnp\u001b[0m\u001b[0;34m.\u001b[0m\u001b[0margmax\u001b[0m\u001b[0;34m(\u001b[0m\u001b[0mmodel\u001b[0m\u001b[0;34m.\u001b[0m\u001b[0mpredict\u001b[0m\u001b[0;34m(\u001b[0m\u001b[0mtest_generator\u001b[0m\u001b[0;34m)\u001b[0m\u001b[0;34m,\u001b[0m \u001b[0maxis\u001b[0m\u001b[0;34m=\u001b[0m\u001b[0;36m1\u001b[0m\u001b[0;34m)\u001b[0m\u001b[0;34m)\u001b[0m\u001b[0;34m\u001b[0m\u001b[0;34m\u001b[0m\u001b[0m\n\u001b[0m\u001b[1;32m      3\u001b[0m \u001b[0;34m\u001b[0m\u001b[0m\n\u001b[1;32m      4\u001b[0m \u001b[0mconf_mat\u001b[0m\u001b[0;34m\u001b[0m\u001b[0;34m\u001b[0m\u001b[0m\n\u001b[1;32m      5\u001b[0m \u001b[0;34m\u001b[0m\u001b[0m\n",
      "\u001b[0;31mNameError\u001b[0m: name 'test_generator' is not defined"
     ]
    }
   ],
   "source": [
    "from sklearn.metrics import confusion_matrix\n",
    "conf_mat = confusion_matrix(test_generator.classes, np.argmax(model.predict(test_generator), axis=1))\n",
    "\n",
    "conf_mat\n",
    "\n",
    "class_names = list(test_generator.class_indices.keys())\n",
    "\n",
    "fig, ax = plt.subplots(figsize=(8,6))\n",
    "fsm_path = pathlib.Path().absolute().parent.parent / 'reports/figures/fsm_heatmap.png'\n",
    "ax.set_ylim([0,1])\n",
    "sns.heatmap(conf_mat, xticklabels=class_names, yticklabels=class_names, ax=ax, square=True, annot=True, )\n",
    "plt.savefig(fsm_path)"
   ]
  },
  {
   "cell_type": "code",
   "execution_count": null,
   "metadata": {},
   "outputs": [],
   "source": []
  }
 ],
 "metadata": {
  "kernelspec": {
   "display_name": "Python [conda env:capstone-env] *",
   "language": "python",
   "name": "conda-env-capstone-env-py"
  },
  "language_info": {
   "codemirror_mode": {
    "name": "ipython",
    "version": 3
   },
   "file_extension": ".py",
   "mimetype": "text/x-python",
   "name": "python",
   "nbconvert_exporter": "python",
   "pygments_lexer": "ipython3",
   "version": "3.6.9"
  }
 },
 "nbformat": 4,
 "nbformat_minor": 4
}
