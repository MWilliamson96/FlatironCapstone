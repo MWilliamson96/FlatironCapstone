{
 "cells": [
  {
   "cell_type": "code",
   "execution_count": 1,
   "metadata": {},
   "outputs": [],
   "source": [
    "# creating paths to src and data folders in the repo\n",
    "import sys\n",
    "import pathlib\n",
    "src_path = pathlib.Path().absolute().parent.parent / \"src\"\n",
    "data_path = pathlib.Path().absolute().parent.parent / \"data\"\n",
    "\n",
    "# train test split paths\n",
    "train_path = data_path / 'binary_tts/train'\n",
    "test_path = data_path / 'binary_tts/test'\n",
    "val_path = data_path / 'binary_tts/val'\n",
    "\n",
    "# add src path to sys.path so it is searched in import statements\n",
    "sys.path.append(str(src_path))\n",
    "\n",
    "# basic imports for data manipulation and visualization\n",
    "import pandas as pd\n",
    "import numpy as np\n",
    "import matplotlib.pyplot as plt\n",
    "import seaborn as sns\n",
    "\n",
    "# silence max image size warning\n",
    "from PIL import Image\n",
    "Image.MAX_IMAGE_PIXELS = 1000000000 \n",
    "\n",
    "# import modeling packages\n",
    "import tensorflow as tf\n",
    "from tensorflow.keras import layers, models\n",
    "from tensorflow.keras.preprocessing.image import ImageDataGenerator\n",
    "\n",
    "# modeling metrics\n",
    "from sklearn.metrics import classification_report, confusion_matrix, plot_confusion_matrix"
   ]
  },
  {
   "cell_type": "markdown",
   "metadata": {},
   "source": [
    "changes to data generators:\n",
    "    \n",
    "    interpolation 'nearest' -> 'bicubic'\n",
    "    \n",
    "    target_size 150x150 -> 200x200\n",
    "    "
   ]
  },
  {
   "cell_type": "code",
   "execution_count": 2,
   "metadata": {},
   "outputs": [
    {
     "name": "stdout",
     "output_type": "stream",
     "text": [
      "Found 6000 images belonging to 2 classes.\n",
      "Found 200 images belonging to 2 classes.\n",
      "Found 200 images belonging to 2 classes.\n"
     ]
    }
   ],
   "source": [
    "train_generator = ImageDataGenerator().flow_from_directory(str(train_path),\n",
    "                                                           target_size=(300, 300),\n",
    "                                                           batch_size=20,\n",
    "                                                           class_mode='binary',\n",
    "                                                           interpolation='bicubic')\n",
    "test_generator = ImageDataGenerator().flow_from_directory(str(test_path),\n",
    "                                                          target_size=(300, 300),\n",
    "                                                          batch_size=20,\n",
    "                                                          class_mode='binary',\n",
    "                                                          interpolation='bicubic',\n",
    "                                                          shuffle=False)\n",
    "val_generator = ImageDataGenerator().flow_from_directory(str(val_path),\n",
    "                                                         target_size=(300, 300),\n",
    "                                                         batch_size=20,\n",
    "                                                         class_mode='binary',\n",
    "                                                         interpolation='bicubic',\n",
    "                                                         shuffle=False)"
   ]
  },
  {
   "cell_type": "markdown",
   "metadata": {},
   "source": [
    "changes to model architecture:\n",
    "    \n",
    "    input_shape 150x150 -> 200x200\n",
    "    \n",
    "    num conv2d layers 2 -> 1\n",
    "    \n",
    "    output num_nodes 2 -> 1\n",
    "    \n",
    "    output_activation 'softmax -> sigmoid'\n",
    "    \n",
    "    MaxPooling pool_size 2x2 -> 5x5"
   ]
  },
  {
   "cell_type": "code",
   "execution_count": 3,
   "metadata": {},
   "outputs": [],
   "source": [
    "model = models.Sequential()\n",
    "model.add(layers.Conv2D(35, (3, 3), activation='relu', input_shape=(300, 300, 3)))\n",
    "model.add(layers.MaxPooling2D((5, 5)))\n",
    "model.add(layers.Conv2D(20, (3, 3), activation='relu'))\n",
    "model.add(layers.MaxPooling2D((3, 3)))\n",
    "model.add(layers.Flatten())\n",
    "model.add(layers.Dense(40, activation='relu'))\n",
    "model.add(layers.Dropout(.2))\n",
    "model.add(layers.Dense(40, activation='relu'))\n",
    "model.add(layers.Dense(1, activation='sigmoid'))\n",
    "model.compile(optimizer='adam', loss='binary_crossentropy', metrics=['accuracy'])"
   ]
  },
  {
   "cell_type": "code",
   "execution_count": 4,
   "metadata": {},
   "outputs": [
    {
     "name": "stdout",
     "output_type": "stream",
     "text": [
      "Model: \"sequential\"\n",
      "_________________________________________________________________\n",
      "Layer (type)                 Output Shape              Param #   \n",
      "=================================================================\n",
      "conv2d (Conv2D)              (None, 298, 298, 35)      980       \n",
      "_________________________________________________________________\n",
      "max_pooling2d (MaxPooling2D) (None, 59, 59, 35)        0         \n",
      "_________________________________________________________________\n",
      "conv2d_1 (Conv2D)            (None, 57, 57, 20)        6320      \n",
      "_________________________________________________________________\n",
      "max_pooling2d_1 (MaxPooling2 (None, 19, 19, 20)        0         \n",
      "_________________________________________________________________\n",
      "flatten (Flatten)            (None, 7220)              0         \n",
      "_________________________________________________________________\n",
      "dense (Dense)                (None, 40)                288840    \n",
      "_________________________________________________________________\n",
      "dropout (Dropout)            (None, 40)                0         \n",
      "_________________________________________________________________\n",
      "dense_1 (Dense)              (None, 40)                1640      \n",
      "_________________________________________________________________\n",
      "dense_2 (Dense)              (None, 1)                 41        \n",
      "=================================================================\n",
      "Total params: 297,821\n",
      "Trainable params: 297,821\n",
      "Non-trainable params: 0\n",
      "_________________________________________________________________\n"
     ]
    }
   ],
   "source": [
    "model.summary()"
   ]
  },
  {
   "cell_type": "markdown",
   "metadata": {},
   "source": [
    "changes to fit:\n",
    "    \n",
    "    epochs 10 -> 5\n",
    "    \n",
    "    steps_per_epoch 200 -> 300"
   ]
  },
  {
   "cell_type": "code",
   "execution_count": 5,
   "metadata": {
    "scrolled": true
   },
   "outputs": [
    {
     "name": "stdout",
     "output_type": "stream",
     "text": [
      "Epoch 1/6\n",
      "298/300 [============================>.] - ETA: 7s - loss: 1.4892 - accuracy: 0.5683 "
     ]
    },
    {
     "name": "stderr",
     "output_type": "stream",
     "text": [
      "/opt/anaconda3/envs/new_capstone-env/lib/python3.6/site-packages/PIL/Image.py:952: UserWarning: Palette images with Transparency expressed in bytes should be converted to RGBA images\n",
      "  \"Palette images with Transparency expressed in bytes should be \"\n"
     ]
    },
    {
     "name": "stdout",
     "output_type": "stream",
     "text": [
      "300/300 [==============================] - 1091s 4s/step - loss: 1.4837 - accuracy: 0.5677 - val_loss: 0.6761 - val_accuracy: 0.5400\n",
      "Epoch 2/6\n",
      "300/300 [==============================] - 1088s 4s/step - loss: 0.6641 - accuracy: 0.6147 - val_loss: 0.6432 - val_accuracy: 0.5550\n",
      "Epoch 3/6\n",
      "300/300 [==============================] - 1096s 4s/step - loss: 0.6390 - accuracy: 0.6447 - val_loss: 0.6196 - val_accuracy: 0.5650\n",
      "Epoch 4/6\n",
      "300/300 [==============================] - 1093s 4s/step - loss: 0.6089 - accuracy: 0.6803 - val_loss: 0.6687 - val_accuracy: 0.5100\n",
      "Epoch 5/6\n",
      "300/300 [==============================] - 1089s 4s/step - loss: 0.5754 - accuracy: 0.7048 - val_loss: 0.6668 - val_accuracy: 0.5150\n",
      "Epoch 6/6\n",
      "300/300 [==============================] - 1090s 4s/step - loss: 0.5603 - accuracy: 0.7178 - val_loss: 0.7610 - val_accuracy: 0.4800\n"
     ]
    },
    {
     "data": {
      "text/plain": [
       "<tensorflow.python.keras.callbacks.History at 0x7fbfb9175400>"
      ]
     },
     "execution_count": 5,
     "metadata": {},
     "output_type": "execute_result"
    }
   ],
   "source": [
    "model.fit(\n",
    "        train_generator,\n",
    "        steps_per_epoch=300,\n",
    "        epochs=6,\n",
    "        validation_data=test_generator,\n",
    "        validation_steps=10)"
   ]
  },
  {
   "cell_type": "code",
   "execution_count": 6,
   "metadata": {},
   "outputs": [
    {
     "name": "stdout",
     "output_type": "stream",
     "text": [
      "WARNING:tensorflow:From <ipython-input-6-702c5a55964a>:1: Sequential.predict_classes (from tensorflow.python.keras.engine.sequential) is deprecated and will be removed after 2021-01-01.\n",
      "Instructions for updating:\n",
      "Please use instead:* `np.argmax(model.predict(x), axis=-1)`,   if your model does multi-class classification   (e.g. if it uses a `softmax` last-layer activation).* `(model.predict(x) > 0.5).astype(\"int32\")`,   if your model does binary classification   (e.g. if it uses a `sigmoid` last-layer activation).\n"
     ]
    },
    {
     "data": {
      "image/png": "[encoded data removed]",
      "text/plain": [
       "<Figure size 576x432 with 2 Axes>"
      ]
     },
     "metadata": {
      "needs_background": "light"
     },
     "output_type": "display_data"
    }
   ],
   "source": [
    "conf_mat = confusion_matrix(test_generator.classes, model.predict_classes(test_generator))\n",
    "\n",
    "class_names = list(test_generator.class_indices.keys())\n",
    "\n",
    "fig, ax = plt.subplots(figsize=(8,6))\n",
    "model_10_path = pathlib.Path().absolute().parent.parent / 'reports/figures/mod_10_heatmap.png'\n",
    "ax.set_ylim([0,1])\n",
    "sns.heatmap(conf_mat, xticklabels=class_names, yticklabels=class_names, ax=ax, square=True, annot=True, cmap='Blues')\n",
    "plt.savefig(model_10_path)"
   ]
  },
  {
   "cell_type": "code",
   "execution_count": 7,
   "metadata": {},
   "outputs": [
    {
     "data": {
      "text/plain": [
       "[0.45, 0.51]"
      ]
     },
     "execution_count": 7,
     "metadata": {},
     "output_type": "execute_result"
    }
   ],
   "source": [
    "accuracies = []\n",
    "for i in range(0, 2):\n",
    "    acc = conf_mat[i][i] / sum(conf_mat[i])\n",
    "    accuracies.append(acc)\n",
    "accuracies"
   ]
  },
  {
   "cell_type": "code",
   "execution_count": null,
   "metadata": {},
   "outputs": [],
   "source": []
  }
 ],
 "metadata": {
  "kernelspec": {
   "display_name": "Python [conda env:new_capstone-env] *",
   "language": "python",
   "name": "conda-env-new_capstone-env-py"
  },
  "language_info": {
   "codemirror_mode": {
    "name": "ipython",
    "version": 3
   },
   "file_extension": ".py",
   "mimetype": "text/x-python",
   "name": "python",
   "nbconvert_exporter": "python",
   "pygments_lexer": "ipython3",
   "version": "3.6.9"
  }
 },
 "nbformat": 4,
 "nbformat_minor": 4
}
